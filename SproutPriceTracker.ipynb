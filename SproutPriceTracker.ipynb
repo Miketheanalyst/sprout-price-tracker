{
  "nbformat": 4,
  "nbformat_minor": 0,
  "metadata": {
    "colab": {
      "provenance": [],
      "authorship_tag": "ABX9TyPgN7/a5Bg5qQ7w3Yh14h3I",
      "include_colab_link": true
    },
    "kernelspec": {
      "name": "python3",
      "display_name": "Python 3"
    },
    "language_info": {
      "name": "python"
    }
  },
  "cells": [
    {
      "cell_type": "markdown",
      "metadata": {
        "id": "view-in-github",
        "colab_type": "text"
      },
      "source": [
        "<a href=\"https://colab.research.google.com/github/Miketheanalyst/sprout-price-tracker/blob/main/SproutPriceTracker.ipynb\" target=\"_parent\"><img src=\"https://colab.research.google.com/assets/colab-badge.svg\" alt=\"Open In Colab\"/></a>"
      ]
    },
    {
      "cell_type": "code",
      "execution_count": null,
      "metadata": {
        "id": "pBq-wQy77FPz",
        "outputId": "af11e372-85d4-4dc2-8e90-db79ed1f5075",
        "colab": {
          "base_uri": "https://localhost:8080/"
        }
      },
      "outputs": [
        {
          "output_type": "stream",
          "name": "stdout",
          "text": [
            "Requirement already satisfied: gspread in /usr/local/lib/python3.11/dist-packages (6.2.0)\n",
            "Requirement already satisfied: oauth2client in /usr/local/lib/python3.11/dist-packages (4.1.3)\n",
            "Requirement already satisfied: google-auth>=1.12.0 in /usr/local/lib/python3.11/dist-packages (from gspread) (2.38.0)\n",
            "Requirement already satisfied: google-auth-oauthlib>=0.4.1 in /usr/local/lib/python3.11/dist-packages (from gspread) (1.2.2)\n",
            "Requirement already satisfied: httplib2>=0.9.1 in /usr/local/lib/python3.11/dist-packages (from oauth2client) (0.22.0)\n",
            "Requirement already satisfied: pyasn1>=0.1.7 in /usr/local/lib/python3.11/dist-packages (from oauth2client) (0.6.1)\n",
            "Requirement already satisfied: pyasn1-modules>=0.0.5 in /usr/local/lib/python3.11/dist-packages (from oauth2client) (0.4.2)\n",
            "Requirement already satisfied: rsa>=3.1.4 in /usr/local/lib/python3.11/dist-packages (from oauth2client) (4.9.1)\n",
            "Requirement already satisfied: six>=1.6.1 in /usr/local/lib/python3.11/dist-packages (from oauth2client) (1.17.0)\n",
            "Requirement already satisfied: cachetools<6.0,>=2.0.0 in /usr/local/lib/python3.11/dist-packages (from google-auth>=1.12.0->gspread) (5.5.2)\n",
            "Requirement already satisfied: requests-oauthlib>=0.7.0 in /usr/local/lib/python3.11/dist-packages (from google-auth-oauthlib>=0.4.1->gspread) (2.0.0)\n",
            "Requirement already satisfied: pyparsing!=3.0.0,!=3.0.1,!=3.0.2,!=3.0.3,<4,>=2.4.2 in /usr/local/lib/python3.11/dist-packages (from httplib2>=0.9.1->oauth2client) (3.2.3)\n",
            "Requirement already satisfied: oauthlib>=3.0.0 in /usr/local/lib/python3.11/dist-packages (from requests-oauthlib>=0.7.0->google-auth-oauthlib>=0.4.1->gspread) (3.2.2)\n",
            "Requirement already satisfied: requests>=2.0.0 in /usr/local/lib/python3.11/dist-packages (from requests-oauthlib>=0.7.0->google-auth-oauthlib>=0.4.1->gspread) (2.32.3)\n",
            "Requirement already satisfied: charset-normalizer<4,>=2 in /usr/local/lib/python3.11/dist-packages (from requests>=2.0.0->requests-oauthlib>=0.7.0->google-auth-oauthlib>=0.4.1->gspread) (3.4.1)\n",
            "Requirement already satisfied: idna<4,>=2.5 in /usr/local/lib/python3.11/dist-packages (from requests>=2.0.0->requests-oauthlib>=0.7.0->google-auth-oauthlib>=0.4.1->gspread) (3.10)\n",
            "Requirement already satisfied: urllib3<3,>=1.21.1 in /usr/local/lib/python3.11/dist-packages (from requests>=2.0.0->requests-oauthlib>=0.7.0->google-auth-oauthlib>=0.4.1->gspread) (2.4.0)\n",
            "Requirement already satisfied: certifi>=2017.4.17 in /usr/local/lib/python3.11/dist-packages (from requests>=2.0.0->requests-oauthlib>=0.7.0->google-auth-oauthlib>=0.4.1->gspread) (2025.4.26)\n"
          ]
        }
      ],
      "source": [
        "!pip install gspread oauth2client"
      ]
    },
    {
      "cell_type": "code",
      "source": [
        "CREDENTIALS_FILE = \"/content/drive/My Drive/Sprout Price Traker/gothic-card-447415-h7-81ff247666ac.json\"\n",
        "SHEET_NAME = \"/content/drive/My Drive/Sprout Price Traker/Sprout.Prices\"\n"
      ],
      "metadata": {
        "id": "OJ8Y0W8RZPCg"
      },
      "execution_count": null,
      "outputs": []
    },
    {
      "cell_type": "code",
      "source": [
        "drive.mount('/content/drive')\n"
      ],
      "metadata": {
        "colab": {
          "base_uri": "https://localhost:8080/",
          "height": 141
        },
        "id": "3QSfEiY7iJaO",
        "outputId": "6a5f2559-9c7b-4795-bcf1-2a321ca11faf"
      },
      "execution_count": 1,
      "outputs": [
        {
          "output_type": "error",
          "ename": "NameError",
          "evalue": "name 'drive' is not defined",
          "traceback": [
            "\u001b[0;31m---------------------------------------------------------------------------\u001b[0m",
            "\u001b[0;31mNameError\u001b[0m                                 Traceback (most recent call last)",
            "\u001b[0;32m<ipython-input-1-3b8a479202a4>\u001b[0m in \u001b[0;36m<cell line: 0>\u001b[0;34m()\u001b[0m\n\u001b[0;32m----> 1\u001b[0;31m \u001b[0mdrive\u001b[0m\u001b[0;34m.\u001b[0m\u001b[0mmount\u001b[0m\u001b[0;34m(\u001b[0m\u001b[0;34m'/content/drive'\u001b[0m\u001b[0;34m)\u001b[0m\u001b[0;34m\u001b[0m\u001b[0;34m\u001b[0m\u001b[0m\n\u001b[0m",
            "\u001b[0;31mNameError\u001b[0m: name 'drive' is not defined"
          ]
        }
      ]
    },
    {
      "cell_type": "code",
      "source": [
        "import requests\n",
        "from bs4 import BeautifulSoup\n",
        "import gspread\n",
        "from oauth2client.service_account import ServiceAccountCredentials\n",
        "from datetime import datetime\n",
        "import smtplib\n",
        "from email.mime.text import MIMEText\n",
        "import gdown\n",
        "\n",
        "# Google Sheet ID\n",
        "SHEET_ID = \"1rvlhtgdoQstmSnLqQH912iI-CJDrk25yUn8q4YljPeM\"\n",
        "\n",
        "# Product URLs\n",
        "PRODUCT_URLS = [\n",
        "    \"https://alsuper.com/producto/mix-germinado-50\",    # Column A\n",
        "    \"https://alsuper.com/producto/germinado-de-brocoli-121\",  # Column B\n",
        "    \"https://alsuper.com/producto/alfalfa-1321\",        # Column C\n",
        "    \"https://alsuper.com/producto/fenogreco-1322\",      # Column D\n",
        "    \"https://alsuper.com/producto/trigo-1323\",          # Column E\n",
        "    \"https://alsuper.com/producto/lenteja-1324\"         # Column F\n",
        "]\n",
        "\n",
        "# Download JSON credentials from Google Drive\n",
        "def download_credentials():\n",
        "    url = \"https://drive.google.com/uc?id=1Nexj-kJN-w0-lF9ZUkihhpGtyD8cfdrj\"\n",
        "    output = \"/content/credentials.json\"\n",
        "    gdown.download(url, output, quiet=False)\n",
        "    return output\n",
        "\n",
        "# Authenticate and connect to Google Sheets\n",
        "def authenticate_google_sheets():\n",
        "    credentials_file = download_credentials()\n",
        "    scope = [\"https://spreadsheets.google.com/feeds\", \"https://www.googleapis.com/auth/drive\"]\n",
        "    credentials = ServiceAccountCredentials.from_json_keyfile_name(credentials_file, scope)\n",
        "    client = gspread.authorize(credentials)\n",
        "    return client\n",
        "\n",
        "# Fetch product details\n",
        "def fetch_product_details(url):\n",
        "    try:\n",
        "        response = requests.get(url, verify=False, timeout=10)  # Added verify=False for SSL warnings\n",
        "        response.raise_for_status()\n",
        "        soup = BeautifulSoup(response.text, 'html.parser')\n",
        "\n",
        "        # Extract product name\n",
        "        name_element = soup.find(\"h1\", class_=\"as-roboto-slab as-font-24 as-font-bold\")\n",
        "        product_name = name_element.text.strip() if name_element else \"Unknown Product\"\n",
        "\n",
        "        # Extract price\n",
        "        price_element = soup.find(\"mat-label\", class_=\"as-roboto-slab as-font-24 as-font-bold ng-star-inserted\")\n",
        "        if price_element:\n",
        "            price_text = price_element.text.strip()\n",
        "            product_price = float(price_text.replace(\"$\", \"\").replace(\",\", \"\"))\n",
        "        else:\n",
        "            product_price = None\n",
        "\n",
        "        return product_name, product_price\n",
        "    except Exception as e:\n",
        "        print(f\"Error fetching product details from {url}: {e}\")\n",
        "        return \"Error\", None\n",
        "\n",
        "# Compare prices and send email notification\n",
        "def compare_and_notify(sheet, new_data):\n",
        "    try:\n",
        "        rows = sheet.get_all_values()\n",
        "        if len(rows) < 2:\n",
        "            return  # Not enough data to compare\n",
        "\n",
        "        last_row = rows[-1][0:6]  # Prices are in columns A-F\n",
        "        price_changes = []\n",
        "\n",
        "        for i, new_price in enumerate(new_data[0:6]):  # Only compare prices, exclude timestamp\n",
        "            if last_row[i] and new_price != \"N/A\" and float(last_row[i]) != float(new_price):\n",
        "                price_changes.append((sheet.row_values(1)[i], last_row[i], new_price))\n",
        "\n",
        "        if price_changes:\n",
        "            send_email(price_changes, no_changes=False)\n",
        "        else:\n",
        "            send_email([], no_changes=True)  # Notify no price changes\n",
        "    except Exception as e:\n",
        "        print(f\"Error comparing data or sending email: {e}\")\n",
        "\n",
        "# Send email no\n",
        "def send_email(price_changes, no_changes):\n",
        "    sender_email = \"germinadosgh@gmail.com\"\n",
        "    sender_password = \"wvenqraanckmlpnc\"  # App password\n",
        "    recipient_email = \"emontemayor@yahoo.com\"\n",
        "\n",
        "    if no_changes:\n",
        "        message_body = \"No hubo ningun cambio en el precio.\"\n",
        "        subject = \"No hay cambio de precio de Germinado\"\n",
        "    else:\n",
        "        message_body = \"Price changes detected:\\n\\n\"\n",
        "        for change in price_changes:\n",
        "            message_body += f\"{change[0]}: Old Price: {change[1]}, New Price: {change[2]}\\n\"\n",
        "        subject = \"Price Changes Detected\"\n",
        "\n",
        "    msg = MIMEText(message_body)\n",
        "    msg[\"Subject\"] = subject\n",
        "    msg[\"From\"] = sender_email\n",
        "    msg[\"To\"] = recipient_email\n",
        "\n",
        "    try:\n",
        "        with smtplib.SMTP_SSL(\"smtp.gmail.com\", 465) as server:\n",
        "            server.login(sender_email, sender_password)\n",
        "            server.sendmail(sender_email, recipient_email, msg.as_string())\n",
        "            print(\"Email sent successfully!\")\n",
        "    except Exception as e:\n",
        "        print(f\"Failed to send email: {e}\")\n",
        "\n",
        "# Update Google Sheet\n",
        "def update_google_sheet(sheet, data):\n",
        "    try:\n",
        "        sheet.append_row(data)\n",
        "    except Exception as e:\n",
        "        print(f\"Error updating Google Sheet: {e}\")\n",
        "\n",
        "if __name__ == \"__main__\":\n",
        "    print(\"Starting script...\")\n",
        "    client = authenticate_google_sheets()\n",
        "    try:\n",
        "        sheet = client.open_by_key(SHEET_ID).sheet1\n",
        "        print(\"Accessing Google Sheet: Success\")\n",
        "    except Exception as e:\n",
        "        print(f\"Error accessing Google Sheet: {e}\")\n",
        "        exit()\n",
        "\n",
        "    # Fetch product details\n",
        "    new_data = []\n",
        "    for url in PRODUCT_URLS:\n",
        "        product_name, product_price = fetch_product_details(url)\n",
        "        if product_price is not None:\n",
        "            print(f\"Product: {product_name}, Price: ${product_price:.2f}\")\n",
        "            new_data.append(product_price)\n",
        "        else:\n",
        "            new_data.append(\"N/A\")\n",
        "\n",
        "    # Add timestamp in the last column (Column G)\n",
        "    new_data.append(datetime.now().strftime(\"%Y-%m-%d %H:%M:%S\"))\n",
        "\n",
        "    # Compare and update\n",
        "    compare_and_notify(sheet, new_data)\n",
        "    update_google_sheet(sheet, new_data)\n",
        "    print(\"Script completed.\")"
      ],
      "metadata": {
        "colab": {
          "base_uri": "https://localhost:8080/"
        },
        "id": "YzJUeT360hHB",
        "outputId": "24c49299-fcbc-43f1-b58c-6b272dfff213"
      },
      "execution_count": 2,
      "outputs": [
        {
          "output_type": "stream",
          "name": "stdout",
          "text": [
            "Starting script...\n"
          ]
        },
        {
          "output_type": "stream",
          "name": "stderr",
          "text": [
            "Downloading...\n",
            "From: https://drive.google.com/uc?id=1Nexj-kJN-w0-lF9ZUkihhpGtyD8cfdrj\n",
            "To: /content/credentials.json\n",
            "100%|██████████| 2.40k/2.40k [00:00<00:00, 11.7MB/s]\n"
          ]
        },
        {
          "output_type": "stream",
          "name": "stdout",
          "text": [
            "Accessing Google Sheet: Success\n"
          ]
        },
        {
          "output_type": "stream",
          "name": "stderr",
          "text": [
            "/usr/local/lib/python3.11/dist-packages/urllib3/connectionpool.py:1097: InsecureRequestWarning: Unverified HTTPS request is being made to host 'alsuper.com'. Adding certificate verification is strongly advised. See: https://urllib3.readthedocs.io/en/latest/advanced-usage.html#tls-warnings\n",
            "  warnings.warn(\n"
          ]
        },
        {
          "output_type": "stream",
          "name": "stdout",
          "text": [
            "Product: Unknown Product, Price: $39.90\n"
          ]
        },
        {
          "output_type": "stream",
          "name": "stderr",
          "text": [
            "/usr/local/lib/python3.11/dist-packages/urllib3/connectionpool.py:1097: InsecureRequestWarning: Unverified HTTPS request is being made to host 'alsuper.com'. Adding certificate verification is strongly advised. See: https://urllib3.readthedocs.io/en/latest/advanced-usage.html#tls-warnings\n",
            "  warnings.warn(\n"
          ]
        },
        {
          "output_type": "stream",
          "name": "stdout",
          "text": [
            "Product: Unknown Product, Price: $47.90\n"
          ]
        },
        {
          "output_type": "stream",
          "name": "stderr",
          "text": [
            "/usr/local/lib/python3.11/dist-packages/urllib3/connectionpool.py:1097: InsecureRequestWarning: Unverified HTTPS request is being made to host 'alsuper.com'. Adding certificate verification is strongly advised. See: https://urllib3.readthedocs.io/en/latest/advanced-usage.html#tls-warnings\n",
            "  warnings.warn(\n"
          ]
        },
        {
          "output_type": "stream",
          "name": "stdout",
          "text": [
            "Product: Unknown Product, Price: $36.90\n"
          ]
        },
        {
          "output_type": "stream",
          "name": "stderr",
          "text": [
            "/usr/local/lib/python3.11/dist-packages/urllib3/connectionpool.py:1097: InsecureRequestWarning: Unverified HTTPS request is being made to host 'alsuper.com'. Adding certificate verification is strongly advised. See: https://urllib3.readthedocs.io/en/latest/advanced-usage.html#tls-warnings\n",
            "  warnings.warn(\n"
          ]
        },
        {
          "output_type": "stream",
          "name": "stdout",
          "text": [
            "Product: Unknown Product, Price: $39.90\n"
          ]
        },
        {
          "output_type": "stream",
          "name": "stderr",
          "text": [
            "/usr/local/lib/python3.11/dist-packages/urllib3/connectionpool.py:1097: InsecureRequestWarning: Unverified HTTPS request is being made to host 'alsuper.com'. Adding certificate verification is strongly advised. See: https://urllib3.readthedocs.io/en/latest/advanced-usage.html#tls-warnings\n",
            "  warnings.warn(\n"
          ]
        },
        {
          "output_type": "stream",
          "name": "stdout",
          "text": [
            "Product: Unknown Product, Price: $39.90\n"
          ]
        },
        {
          "output_type": "stream",
          "name": "stderr",
          "text": [
            "/usr/local/lib/python3.11/dist-packages/urllib3/connectionpool.py:1097: InsecureRequestWarning: Unverified HTTPS request is being made to host 'alsuper.com'. Adding certificate verification is strongly advised. See: https://urllib3.readthedocs.io/en/latest/advanced-usage.html#tls-warnings\n",
            "  warnings.warn(\n"
          ]
        },
        {
          "output_type": "stream",
          "name": "stdout",
          "text": [
            "Product: Unknown Product, Price: $39.90\n",
            "Email sent successfully!\n",
            "Script completed.\n"
          ]
        }
      ]
    }
  ]
}